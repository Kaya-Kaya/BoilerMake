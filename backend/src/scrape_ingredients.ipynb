{
 "cells": [
  {
   "cell_type": "code",
   "execution_count": null,
   "metadata": {},
   "outputs": [],
   "source": [
    "from selenium import webdriver\n",
    "from selenium.webdriver.common.by import By\n",
    "import time\n",
    "from selenium.common.exceptions import TimeoutException, ElementNotInteractableException, NoSuchElementException\n",
    "from selenium.webdriver.support.ui import WebDriverWait\n",
    "from selenium.webdriver.support import expected_conditions as EC"
   ]
  },
  {
   "cell_type": "code",
   "execution_count": 38,
   "metadata": {},
   "outputs": [
    {
     "name": "stdout",
     "output_type": "stream",
     "text": [
      "starting scraping\n"
     ]
    },
    {
     "name": "stderr",
     "output_type": "stream",
     "text": [
      "Traceback (most recent call last):\n",
      "  File \"/var/folders/f5/299vphyd6fz0xl9_z3gz0w7h0000gn/T/ipykernel_95257/2786294347.py\", line 15, in <module>\n",
      "    ingredient_boxes = WebDriverWait(driver, 10).until(\n",
      "                       ^^^^^^^^^^^^^^^^^^^^^^^^^^^^^^^^\n",
      "  File \"/Users/kaya/miniconda3/lib/python3.12/site-packages/selenium/webdriver/support/wait.py\", line 105, in until\n",
      "    raise TimeoutException(message, screen, stacktrace)\n",
      "selenium.common.exceptions.TimeoutException: Message: \n",
      "\n"
     ]
    }
   ],
   "source": [
    "import sys\n",
    "import traceback\n",
    "\n",
    "# Set up the Selenium WebDriver\n",
    "driver = webdriver.Chrome()\n",
    "\n",
    "# Open a website\n",
    "driver.get('https://www.supercook.com/#/desktop')\n",
    "\n",
    "ingredients = []\n",
    "print(\"starting scraping\")\n",
    "sys.stdout.flush()\n",
    "\n",
    "try:\n",
    "    ingredient_boxes = WebDriverWait(driver, 10).until(\n",
    "        EC.presence_of_all_elements_located((By.CLASS_NAME, 'ingredients-category-item'))\n",
    "    )\n",
    "    for box in ingredient_boxes:\n",
    "        try:\n",
    "            box.find_element(By.CLASS_NAME, 'more-tag').click()\n",
    "        except NoSuchElementException:\n",
    "            pass\n",
    "        ingredient_elements = box.find_elements(By.CLASS_NAME, 'tags-mini-item')\n",
    "        ingredients.extend([ingredient.text for ingredient in ingredient_elements])\n",
    "except Exception as e:\n",
    "    traceback.print_exc()\n",
    "finally:\n",
    "    driver.quit()"
   ]
  },
  {
   "cell_type": "code",
   "execution_count": null,
   "metadata": {},
   "outputs": [],
   "source": [
    "import json\n",
    "with open('ingredients.json', 'w') as f:\n",
    "    json.dump(ingredients, f)"
   ]
  },
  {
   "cell_type": "code",
   "execution_count": null,
   "metadata": {},
   "outputs": [],
   "source": []
  }
 ],
 "metadata": {
  "kernelspec": {
   "display_name": "base",
   "language": "python",
   "name": "python3"
  },
  "language_info": {
   "codemirror_mode": {
    "name": "ipython",
    "version": 3
   },
   "file_extension": ".py",
   "mimetype": "text/x-python",
   "name": "python",
   "nbconvert_exporter": "python",
   "pygments_lexer": "ipython3",
   "version": "3.12.4"
  }
 },
 "nbformat": 4,
 "nbformat_minor": 2
}
