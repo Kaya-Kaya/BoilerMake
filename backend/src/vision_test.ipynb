{
 "cells": [
  {
   "cell_type": "code",
   "execution_count": 11,
   "metadata": {},
   "outputs": [],
   "source": [
    "from google import genai\n",
    "from google.genai import types\n",
    "from google.genai.types import GenerateContentConfig\n",
    "from PIL import Image\n",
    "from functions import get_api_key\n",
    "import os"
   ]
  },
  {
   "cell_type": "code",
   "execution_count": 12,
   "metadata": {},
   "outputs": [],
   "source": [
    "prompt = \"\"\"\n",
    "List all the ingredients in the image. Be as specific about ingredient type as possible while remaining accurate. Avoid duplicates. Output them as a JSON array.\n",
    "\n",
    "Example:\n",
    "[\"Greek Yogurt\", \"Bananas\", \"Orange\", \"Red Apple\", \"Ground Beef\"]\n",
    "\"\"\""
   ]
  },
  {
   "cell_type": "code",
   "execution_count": 13,
   "metadata": {},
   "outputs": [
    {
     "name": "stdout",
     "output_type": "stream",
     "text": [
      "is this working plEASEPLLEASPLEPLEASE\n",
      "```json\n",
      "[\n",
      "  \"Yogurt\",\n",
      "  \"Green Apples\",\n",
      "  \"Pickles\",\n",
      "  \"Donuts\",\n",
      "  \"Cheese\",\n",
      "  \"Red Apple\",\n",
      "  \"Lemon\",\n",
      "  \"Cucumber\",\n",
      "  \"Lettuce\",\n",
      "  \"Eggplant\",\n",
      "  \"Bottled Juice\",\n",
      "  \"Celery\",\n",
      "  \"Limes\",\n",
      "  \"Carrots\",\n",
      "  \"Oranges\",\n",
      "  \"Tomatoes\",\n",
      "  \"Green Bell Peppers\",\n",
      "  \"Milk\"\n",
      "]\n",
      "```\n"
     ]
    }
   ],
   "source": [
    "image = Image.open('test.jpg')\n",
    "\n",
    "client = genai.Client(api_key=get_api_key())\n",
    "#client = genai.Client(api_key=os.environ[\"GEMINI_API_KEY\"])\n",
    "\n",
    "config = GenerateContentConfig(\n",
    "    temperature = 0,\n",
    "    max_output_tokens = 2048\n",
    ")\n",
    "\n",
    "response = client.models.generate_content(\n",
    "    model=\"gemini-2.0-flash\",\n",
    "    contents=[prompt, image],\n",
    "    config=config)\n",
    "\n",
    "print(response.text)"
   ]
  },
  {
   "cell_type": "code",
   "execution_count": 14,
   "metadata": {},
   "outputs": [
    {
     "data": {
      "text/plain": [
       "'[\\n  \"Yogurt\",\\n  \"Green Apples\",\\n  \"Pickles\",\\n  \"Donuts\",\\n  \"Cheese\",\\n  \"Red Apple\",\\n  \"Lemon\",\\n  \"Cucumber\",\\n  \"Lettuce\",\\n  \"Eggplant\",\\n  \"Bottled Juice\",\\n  \"Celery\",\\n  \"Limes\",\\n  \"Carrots\",\\n  \"Oranges\",\\n  \"Tomatoes\",\\n  \"Green Bell Peppers\",\\n  \"Milk\"\\n]'"
      ]
     },
     "execution_count": 14,
     "metadata": {},
     "output_type": "execute_result"
    }
   ],
   "source": [
    "response.text[response.text.find(\"[\"):response.text.rfind(\"]\") + 1]"
   ]
  },
  {
   "cell_type": "code",
   "execution_count": null,
   "metadata": {},
   "outputs": [],
   "source": []
  }
 ],
 "metadata": {
  "kernelspec": {
   "display_name": "Python 3",
   "language": "python",
   "name": "python3"
  },
  "language_info": {
   "codemirror_mode": {
    "name": "ipython",
    "version": 3
   },
   "file_extension": ".py",
   "mimetype": "text/x-python",
   "name": "python",
   "nbconvert_exporter": "python",
   "pygments_lexer": "ipython3",
   "version": "3.13.1"
  }
 },
 "nbformat": 4,
 "nbformat_minor": 2
}
